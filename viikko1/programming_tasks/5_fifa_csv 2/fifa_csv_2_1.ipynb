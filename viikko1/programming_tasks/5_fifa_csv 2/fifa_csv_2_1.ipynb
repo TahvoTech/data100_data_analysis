{
 "cells": [
  {
   "cell_type": "code",
   "execution_count": null,
   "metadata": {},
   "outputs": [
    {
     "name": "stdout",
     "output_type": "stream",
     "text": [
      "England 2.60\n",
      "Portugal 2.40\n",
      "France 2.29\n",
      "Spain 2.25\n",
      "Argentina 2.14\n",
      "Germany 2.00\n",
      "Netherlands 2.00\n",
      "Ghana 1.67\n",
      "Serbia 1.67\n",
      "Brazil 1.60\n",
      "Cameroon 1.33\n",
      "Ecuador 1.33\n",
      "Iran 1.33\n",
      "Japan 1.25\n",
      "Korea Republic 1.25\n",
      "Senegal 1.25\n",
      "Switzerland 1.25\n",
      "Croatia 1.14\n",
      "Australia 1.00\n",
      "Costa Rica 1.00\n",
      "Saudi Arabia 1.00\n",
      "Morocco 0.86\n",
      "Poland 0.75\n",
      "United States 0.75\n",
      "Canada 0.67\n",
      "Mexico 0.67\n",
      "Uruguay 0.67\n",
      "Belgium 0.33\n",
      "Denmark 0.33\n",
      "Qatar 0.33\n",
      "Tunisia 0.33\n",
      "Wales 0.33\n"
     ]
    }
   ],
   "source": [
    "import csv\n",
    "\n",
    "with open('Fifa Worldcup 2022.csv', newline='') as f:\n",
    "    reader = csv.reader(f)\n",
    "    next(reader)\n",
    "    rows = list(reader)\n",
    "\n",
    "# Initialize dictionaries to store match count and goals sum\n",
    "match_count = {}\n",
    "goals_sum = {}\n",
    "\n",
    "# Calculate match count and goals sum for each country\n",
    "for row in rows:\n",
    "    country, goals = row[2], int(row[5])\n",
    "    if country not in match_count:\n",
    "        match_count[country] = 0\n",
    "        goals_sum[country] = 0\n",
    "    match_count[country] += 1\n",
    "    goals_sum[country] += goals\n",
    "\n",
    "# Create a dictionary with countries and their average goals\n",
    "average_goals_dict = {country: goals_sum[country] / match_count[country] for country in match_count}\n",
    "\n",
    "# Sort the dictionary by average goals (descending) and then by country name (ascending)\n",
    "sorted_average_goals_dict = dict(sorted(average_goals_dict.items(), key=lambda x: (-x[1], x[0])))\n",
    "\n",
    "# Print the sorted dictionary\n",
    "for country, avg_goals in sorted_average_goals_dict.items():\n",
    "    print(f\"{country} {avg_goals:.2f}\")\n"
   ]
  },
  {
   "cell_type": "markdown",
   "metadata": {},
   "source": [
    "Teachers version:"
   ]
  },
  {
   "cell_type": "code",
   "execution_count": 7,
   "metadata": {},
   "outputs": [
    {
     "name": "stdout",
     "output_type": "stream",
     "text": [
      "England 2.60\n",
      "Portugal 2.40\n",
      "France 2.29\n",
      "Spain 2.25\n",
      "Argentina 2.14\n",
      "Germany 2.00\n",
      "Netherlands 2.00\n",
      "Ghana 1.67\n",
      "Serbia 1.67\n",
      "Brazil 1.60\n",
      "Cameroon 1.33\n",
      "Ecuador 1.33\n",
      "Iran 1.33\n",
      "Japan 1.25\n",
      "Korea Republic 1.25\n",
      "Senegal 1.25\n",
      "Switzerland 1.25\n",
      "Croatia 1.14\n",
      "Australia 1.00\n",
      "Costa Rica 1.00\n",
      "Saudi Arabia 1.00\n",
      "Morocco 0.86\n",
      "Poland 0.75\n",
      "United States 0.75\n",
      "Canada 0.67\n",
      "Mexico 0.67\n",
      "Uruguay 0.67\n",
      "Belgium 0.33\n",
      "Denmark 0.33\n",
      "Qatar 0.33\n",
      "Tunisia 0.33\n",
      "Wales 0.33\n"
     ]
    }
   ],
   "source": [
    "import csv\n",
    "from collections import defaultdict\n",
    "\n",
    "if __name__ == \"__main__\":\n",
    "\n",
    "    with open(\"Fifa Worldcup 2022.csv\") as f:\n",
    "        goals = defaultdict(int)\n",
    "        matches = defaultdict(int)\n",
    "        for row in csv.DictReader(f):\n",
    "            goals[row[\"Team\"]] += int(row[\"Goal\"])\n",
    "            matches[row[\"Team\"]] += 1\n",
    "        avgs = {}\n",
    "        for team in goals:\n",
    "            avgs[team] = goals[team] / matches[team]\n",
    "        sortedAvgs = sorted(avgs.items(), key=lambda d: d[0])\n",
    "        sortedAvgs.sort(key=lambda d: d[1], reverse=True)\n",
    "        for team, avg in sortedAvgs:\n",
    "            print(f\"{team} {avg:.2f}\")"
   ]
  },
  {
   "cell_type": "code",
   "execution_count": null,
   "metadata": {},
   "outputs": [],
   "source": []
  }
 ],
 "metadata": {
  "kernelspec": {
   "display_name": "data100_env",
   "language": "python",
   "name": "python3"
  },
  "language_info": {
   "codemirror_mode": {
    "name": "ipython",
    "version": 3
   },
   "file_extension": ".py",
   "mimetype": "text/x-python",
   "name": "python",
   "nbconvert_exporter": "python",
   "pygments_lexer": "ipython3",
   "version": "3.12.9"
  }
 },
 "nbformat": 4,
 "nbformat_minor": 2
}

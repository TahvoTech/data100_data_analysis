{
 "cells": [
  {
   "cell_type": "code",
   "execution_count": 2,
   "metadata": {},
   "outputs": [
    {
     "name": "stdout",
     "output_type": "stream",
     "text": [
      "England 2.60\n",
      "Portugal 2.40\n",
      "France 2.29\n",
      "Spain 2.25\n",
      "Argentina 2.14\n",
      "Germany 2.00\n",
      "Netherlands 2.00\n",
      "Ghana 1.67\n",
      "Serbia 1.67\n",
      "Brazil 1.60\n",
      "Cameroon 1.33\n",
      "Ecuador 1.33\n",
      "Iran 1.33\n",
      "Japan 1.25\n",
      "Korea Republic 1.25\n",
      "Senegal 1.25\n",
      "Switzerland 1.25\n",
      "Croatia 1.14\n",
      "Australia 1.00\n",
      "Costa Rica 1.00\n",
      "Saudi Arabia 1.00\n",
      "Morocco 0.86\n",
      "Poland 0.75\n",
      "United States 0.75\n",
      "Canada 0.67\n",
      "Mexico 0.67\n",
      "Uruguay 0.67\n",
      "Belgium 0.33\n",
      "Denmark 0.33\n",
      "Qatar 0.33\n",
      "Tunisia 0.33\n",
      "Wales 0.33\n"
     ]
    }
   ],
   "source": [
    "import csv\n",
    "\n",
    "with open('Fifa Worldcup 2022.csv', newline='') as f:\n",
    "    reader = csv.reader(f)\n",
    "    next(reader)\n",
    "    rows = list(reader)\n",
    "\n",
    "# Initialize dictionaries to store match count and goals sum\n",
    "match_count = {}\n",
    "goals_sum = {}\n",
    "\n",
    "# Calculate match count and goals sum for each country\n",
    "for row in rows:\n",
    "    country, goals = row[2], int(row[5])\n",
    "    if country not in match_count:\n",
    "        match_count[country] = 0\n",
    "        goals_sum[country] = 0\n",
    "    match_count[country] += 1\n",
    "    goals_sum[country] += goals\n",
    "\n",
    "# Create a dictionary with countries and their average goals\n",
    "average_goals_dict = {country: goals_sum[country] / match_count[country] for country in match_count}\n",
    "\n",
    "# Sort the dictionary by average goals (descending) and then by country name (ascending)\n",
    "sorted_average_goals_dict = dict(sorted(average_goals_dict.items(), key=lambda x: (-x[1], x[0])))\n",
    "\n",
    "# Print the sorted dictionary\n",
    "for country, avg_goals in sorted_average_goals_dict.items():\n",
    "    print(f\"{country} {avg_goals:.2f}\")\n"
   ]
  },
  {
   "cell_type": "code",
   "execution_count": 4,
   "metadata": {},
   "outputs": [],
   "source": [
    "import csv\n",
    "\n",
    "# Open the input file and read the data\n",
    "with open('Fifa Worldcup 2022.csv', newline='') as infile:\n",
    "    reader = csv.reader(infile)\n",
    "    header = next(reader)\n",
    "    rows = list(reader)\n",
    "\n",
    "# Prepare the data for the new file\n",
    "new_rows = []\n",
    "for i in range(0, len(rows), 2):\n",
    "    teamA, goalsA, pointsA = rows[i][2], rows[i][5], rows[i][37]\n",
    "    teamB, goalsB, pointsB = rows[i+1][2], rows[i+1][5], rows[i+1][37]\n",
    "    new_rows.append([teamA, teamB, goalsA, goalsB, pointsA, pointsB])\n",
    "\n",
    "# print(new_rows)\n",
    "\n",
    "# Write the new data to the output file\n",
    "with open('Worldcup2022.csv', 'w', newline='') as outfile:\n",
    "    writer = csv.writer(outfile)\n",
    "    writer.writerow([\"TeamA\", \"TeamB\", \"GoalsA\", \"GoalsB\", \"PointsA\", \"PointsB\"])\n",
    "    writer.writerows(new_rows)"
   ]
  },
  {
   "cell_type": "markdown",
   "metadata": {},
   "source": [
    "Teacher's Solution"
   ]
  },
  {
   "cell_type": "code",
   "execution_count": 4,
   "metadata": {},
   "outputs": [],
   "source": [
    "import csv\n",
    "\n",
    "if __name__ == \"__main__\":\n",
    "\n",
    "    with open('Fifa Worldcup 2022.csv', newline='') as inf:\n",
    "        with open('Worldcup2022_Teacher.csv', 'w') as outf:\n",
    "            writer = csv.writer(outf)\n",
    "            writer.writerow([\"TeamA\", \"TeamB\", \"GoalsA\", \"GoalsB\", \"PointsA\", \"PointsB\"])\n",
    "            reader = csv.DictReader(inf)\n",
    "            for rowA in reader:\n",
    "                rowB = next(reader)\n",
    "                writer.writerow([rowA[\"Team\"], rowB[\"Team\"], \n",
    "                                 rowA[\"Goal\"], rowB[\"Goal\"], \n",
    "                                 rowA[\"Pts\"], rowB[\"Pts\"]])"
   ]
  },
  {
   "cell_type": "code",
   "execution_count": null,
   "metadata": {},
   "outputs": [],
   "source": []
  }
 ],
 "metadata": {
  "kernelspec": {
   "display_name": "data100_env",
   "language": "python",
   "name": "python3"
  },
  "language_info": {
   "codemirror_mode": {
    "name": "ipython",
    "version": 3
   },
   "file_extension": ".py",
   "mimetype": "text/x-python",
   "name": "python",
   "nbconvert_exporter": "python",
   "pygments_lexer": "ipython3",
   "version": "3.12.9"
  }
 },
 "nbformat": 4,
 "nbformat_minor": 2
}

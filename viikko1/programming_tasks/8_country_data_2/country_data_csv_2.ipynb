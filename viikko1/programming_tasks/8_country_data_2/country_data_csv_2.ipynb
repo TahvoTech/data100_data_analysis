{
 "cells": [
  {
   "cell_type": "code",
   "execution_count": null,
   "metadata": {},
   "outputs": [],
   "source": [
    "import json\n",
    "import csv\n",
    "from sys import argv\n",
    "\n",
    "def main():\n",
    "    inputfn = 'countrydata.json' # Syötetiedoston (JSON) nimi\n",
    "    outputfn = 'countrydataNEW.json' # Tulostiedoston (CSV) nimi\n",
    "    \n",
    "    # Lue JSON-tiedosto\n",
    "    with open(inputfn, 'r') as file:\n",
    "        data = json.load(file)\n",
    "    \n",
    "    # Luo joukko kaikista alueista\n",
    "    regions = set()\n",
    "    for category in data.values():\n",
    "        for region in category.keys():\n",
    "            regions.add(region)\n",
    "    \n",
    "    # Järjestä alueet aakkosjärjestykseen\n",
    "    sorted_regions = sorted(regions)\n",
    "    \n",
    "    # Kirjoita CSV-tiedosto\n",
    "    with open(outputfn, 'w', newline='') as csvfile:\n",
    "        fieldnames = [\"Region\", \"GDP (PPP) per capita\", \"Happiness score\", \"Life expectancy\", \"Birth rate\"]\n",
    "        writer = csv.DictWriter(csvfile, fieldnames=fieldnames)\n",
    "        \n",
    "        writer.writeheader()\n",
    "        for region in sorted_regions:\n",
    "            row = {\"Region\": region}\n",
    "            for category in fieldnames[1:]:\n",
    "                row[category] = \"\"\n",
    "                for cat, values in data.items():\n",
    "                    if cat == category and region in values:\n",
    "                        row[category] = values[region] if values[region] is not None else \"\"\n",
    "            writer.writerow(row)\n",
    "\n",
    "if __name__ == \"__main__\":\n",
    "    main()"
   ]
  },
  {
   "cell_type": "code",
   "execution_count": null,
   "metadata": {},
   "outputs": [],
   "source": [
    "import json\n",
    "import csv\n",
    "\n",
    "def main():\n",
    "    inputfn = 'countrydata.json' # Syötetiedoston (JSON) nimi\n",
    "    outputfn = 'countrydataNEW.csv' # Tulostiedoston (CSV) nimi\n",
    "    \n",
    "    # Lue JSON-tiedosto\n",
    "    with open(inputfn, 'r') as file:\n",
    "        data = json.load(file)\n",
    "    \n",
    "    # Luo joukko kaikista alueista\n",
    "    regions = set()\n",
    "    for category in data.values():\n",
    "        for region in category.keys():\n",
    "            regions.add(region)\n",
    "    \n",
    "    # Järjestä alueet aakkosjärjestykseen\n",
    "    sorted_regions = sorted(regions)\n",
    "    \n",
    "    # Kirjoita CSV-tiedosto\n",
    "    with open(outputfn, 'w', newline='') as csvfile:\n",
    "        fieldnames = [\"Region\", \"GDP (PPP) per capita\", \"Happiness score\", \"Life expectancy\", \"Birth rate\"]\n",
    "        writer = csv.DictWriter(csvfile, fieldnames=fieldnames, quoting=csv.QUOTE_ALL)\n",
    "        \n",
    "        writer.writeheader()\n",
    "        for region in sorted_regions:\n",
    "            row = {\"Region\": region}\n",
    "            for category in fieldnames[1:]:\n",
    "                row[category] = \"\"\n",
    "                for cat, values in data.items():\n",
    "                    if cat == category and region in values:\n",
    "                        row[category] = values[region] if values[region] is not None else \"\"\n",
    "            writer.writerow(row)\n",
    "\n",
    "if __name__ == \"__main__\":\n",
    "    main()\n"
   ]
  },
  {
   "cell_type": "markdown",
   "metadata": {},
   "source": [
    "Teachers solution:"
   ]
  },
  {
   "cell_type": "code",
   "execution_count": null,
   "metadata": {},
   "outputs": [],
   "source": []
  }
 ],
 "metadata": {
  "language_info": {
   "name": "python"
  }
 },
 "nbformat": 4,
 "nbformat_minor": 2
}

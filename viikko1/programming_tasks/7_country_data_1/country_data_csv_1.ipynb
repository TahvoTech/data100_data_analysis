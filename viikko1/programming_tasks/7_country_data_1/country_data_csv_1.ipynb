{
 "cells": [
  {
   "cell_type": "markdown",
   "metadata": {},
   "source": [
    "Question\n",
    "\n",
    "Kirjoita Python-ohjelma, joka avaa kurssilla käsiteltyä tiedostoa \"countrydata.json\" vastaavaa muotoa olevan JSON-tiedoston ja laskee, kuinka monesta eri maasta tai alueesta tiedostossa on dataa. Ohjelmasi saa luettavan JSON-tiedoston nimen komentoriviparametrina (katso valmista koodikehikkoa). Ohjelman tulee tulostaa täsmälleen yksi muotoa \"Dataa löytyi x alueelle\" oleva rivi, missä x on alueiden lukumäärä. Käytä Pythonin json-modulia.\n",
    "\n",
    "Syötetiedosto sisältää neljää eri tietolajia: \"GDP (PPP) per capita\", \"Happiness score\", \"Life expectancy\" ja \"Birth rate\". Luennolla käsitellyssä tiedostossa jokaisen tietolajin alla oli tietoa samalle aluejoukko. Tässä tehtävässä et saa olettaa tämän pätevän: eri tietolajien alaisuudessa voi olla tietoa erilaisilla aluejoukoille, ja ohjelmasi pitää laskea näiden yhdiste. Samaa aluetta ei luonnollisestikaan lasketa useaan kertaan. Jos jollekin alueelle on tallennettu puuttuva tieto (esim. JSON-tiedostossa arvona on null), kyseinen alue kuitenkin lasketaan mukaan.\n",
    "\n",
    "Eri alueiden lukumäärän laskennassa kannattanee hyödyntää Pythonin joukkoa (set).\n"
   ]
  },
  {
   "cell_type": "code",
   "execution_count": 1,
   "metadata": {},
   "outputs": [
    {
     "name": "stdout",
     "output_type": "stream",
     "text": [
      "Dataa löytyi 262 alueelle\n"
     ]
    }
   ],
   "source": [
    "import json\n",
    "\n",
    "def count_unique_regions(filename):\n",
    "    with open(filename, 'r') as file:\n",
    "        data = json.load(file)\n",
    "    \n",
    "    regions = set()\n",
    "    for category in data.values():\n",
    "        for region in category.keys():\n",
    "            regions.add(region)\n",
    "    \n",
    "    print(f\"Dataa löytyi {len(regions)} alueelle\")\n",
    "\n",
    "# Call the function with the filename\n",
    "count_unique_regions('countrydata.json')"
   ]
  },
  {
   "cell_type": "code",
   "execution_count": 3,
   "metadata": {},
   "outputs": [
    {
     "name": "stdout",
     "output_type": "stream",
     "text": [
      "Dataa löytyi 262 alueelle\n"
     ]
    }
   ],
   "source": [
    "import json\n",
    "from sys import argv\n",
    "\n",
    "def main():\n",
    "    filename = argv[1] # Syötetiedoston nimi 'countrydata.json'\n",
    "    # Jatka toteutusta tästä\n",
    "    with open(filename) as file:\n",
    "        data = json.load(file)\n",
    "\n",
    "    regions = set()\n",
    "    for category in data.values():\n",
    "        for region in category.keys():\n",
    "            regions.add(region)\n",
    "    \n",
    "    print(f\"Dataa löytyi {len(regions)} alueelle\")\n",
    "\n",
    "if __name__ == \"__main__\":\n",
    "    main()"
   ]
  },
  {
   "cell_type": "code",
   "execution_count": 5,
   "metadata": {},
   "outputs": [],
   "source": [
    "import json\n",
    "import csv\n",
    "from sys import argv\n",
    "\n",
    "def main():\n",
    "    inputfn = 'countrydata.json' # Syötetiedoston (JSON) nimi\n",
    "    outputfn = 'countrydataNEW.json' # Tulostiedoston (CSV) nimi\n",
    "    \n",
    "    # Lue JSON-tiedosto\n",
    "    with open(inputfn, 'r') as file:\n",
    "        data = json.load(file)\n",
    "    \n",
    "    # Luo joukko kaikista alueista\n",
    "    regions = set()\n",
    "    for category in data.values():\n",
    "        for region in category.keys():\n",
    "            regions.add(region)\n",
    "    \n",
    "    # Järjestä alueet aakkosjärjestykseen\n",
    "    sorted_regions = sorted(regions)\n",
    "    \n",
    "    # Kirjoita CSV-tiedosto\n",
    "    with open(outputfn, 'w', newline='') as csvfile:\n",
    "        fieldnames = [\"Region\", \"GDP (PPP) per capita\", \"Happiness score\", \"Life expectancy\", \"Birth rate\"]\n",
    "        writer = csv.DictWriter(csvfile, fieldnames=fieldnames)\n",
    "        \n",
    "        writer.writeheader()\n",
    "        for region in sorted_regions:\n",
    "            row = {\"Region\": region}\n",
    "            for category in fieldnames[1:]:\n",
    "                row[category] = \"\"\n",
    "                for cat, values in data.items():\n",
    "                    if cat == category and region in values:\n",
    "                        row[category] = values[region] if values[region] is not None else \"\"\n",
    "            writer.writerow(row)\n",
    "\n",
    "if __name__ == \"__main__\":\n",
    "    main()"
   ]
  },
  {
   "cell_type": "code",
   "execution_count": 6,
   "metadata": {},
   "outputs": [],
   "source": [
    "import json\n",
    "import csv\n",
    "\n",
    "def main():\n",
    "    inputfn = 'countrydata.json' # Syötetiedoston (JSON) nimi\n",
    "    outputfn = 'countrydataNEW.csv' # Tulostiedoston (CSV) nimi\n",
    "    \n",
    "    # Lue JSON-tiedosto\n",
    "    with open(inputfn, 'r') as file:\n",
    "        data = json.load(file)\n",
    "    \n",
    "    # Luo joukko kaikista alueista\n",
    "    regions = set()\n",
    "    for category in data.values():\n",
    "        for region in category.keys():\n",
    "            regions.add(region)\n",
    "    \n",
    "    # Järjestä alueet aakkosjärjestykseen\n",
    "    sorted_regions = sorted(regions)\n",
    "    \n",
    "    # Kirjoita CSV-tiedosto\n",
    "    with open(outputfn, 'w', newline='') as csvfile:\n",
    "        fieldnames = [\"Region\", \"GDP (PPP) per capita\", \"Happiness score\", \"Life expectancy\", \"Birth rate\"]\n",
    "        writer = csv.DictWriter(csvfile, fieldnames=fieldnames, quoting=csv.QUOTE_ALL)\n",
    "        \n",
    "        writer.writeheader()\n",
    "        for region in sorted_regions:\n",
    "            row = {\"Region\": region}\n",
    "            for category in fieldnames[1:]:\n",
    "                row[category] = \"\"\n",
    "                for cat, values in data.items():\n",
    "                    if cat == category and region in values:\n",
    "                        row[category] = values[region] if values[region] is not None else \"\"\n",
    "            writer.writerow(row)\n",
    "\n",
    "if __name__ == \"__main__\":\n",
    "    main()\n"
   ]
  },
  {
   "cell_type": "markdown",
   "metadata": {},
   "source": [
    "Teacher's solution"
   ]
  },
  {
   "cell_type": "code",
   "execution_count": 12,
   "metadata": {},
   "outputs": [
    {
     "name": "stdout",
     "output_type": "stream",
     "text": [
      "262\n"
     ]
    }
   ],
   "source": [
    "import json\n",
    "from sys import argv\n",
    "\n",
    "def main():\n",
    "    # filename = argv[1] # Syötetiedoston nimi 'countrydata.json'\n",
    "    filename = 'countrydata.json'\n",
    "    # Jatka toteutusta tästä\n",
    "    with open(filename) as f:\n",
    "        data = json.load(f)\n",
    "    regionset = set()\n",
    "    for types in data:\n",
    "        regionset.update(data[types])\n",
    "    print(len(regionset))\n",
    "\n",
    "if __name__ == \"__main__\":\n",
    "    main()"
   ]
  },
  {
   "cell_type": "code",
   "execution_count": null,
   "metadata": {},
   "outputs": [],
   "source": []
  }
 ],
 "metadata": {
  "kernelspec": {
   "display_name": "data100_env",
   "language": "python",
   "name": "python3"
  },
  "language_info": {
   "codemirror_mode": {
    "name": "ipython",
    "version": 3
   },
   "file_extension": ".py",
   "mimetype": "text/x-python",
   "name": "python",
   "nbconvert_exporter": "python",
   "pygments_lexer": "ipython3",
   "version": "3.12.9"
  }
 },
 "nbformat": 4,
 "nbformat_minor": 2
}

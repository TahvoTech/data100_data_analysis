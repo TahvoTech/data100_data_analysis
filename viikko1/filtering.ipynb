{
 "cells": [
  {
   "cell_type": "markdown",
   "metadata": {},
   "source": [
    "Toteuta Python-funktio filterByMonth(filename, dateCol, year, month, delimiter=','), joka avaa parametrin filename nimeämän CSV-tiedoston käyttäen csv.DictReader-oliota ja palauttaa ne rivit, joiden päivämäärä sijoittuu parametreja year ja month vastaaville vuodelle ja kuukaudelle. Parametri month esittää kuukauden välin 1-12 kokonaislukuna.\n",
    "\n",
    "Tehtävä tulee ratkaista soveltamalla funktiota filter syötetiedostoa lukevaan DictReader-olioon. Palautetut rivit ovat tällöin alkuperäisen datan rivien sijaan DictReader-olion luomia sanakirjoja.\n",
    "\n",
    "Koska tarkoitus on käyttää funktiota filter, toteutuksesi ei saa sisältää yhtään For- tai While-silmukkaa.\n",
    "\n",
    "Funktio olettaa, että syötetiedoston ensimmäinen rivi on otsakerivi ja että tiedostossa on parametrin dateCol nimeämä sarake, joka sisältää muodossa \"VVVVKKPP\" esitettyjä päivämääriä (eli ensin nelinumeroinen vuosi, sitten kaksinumeroinen kuukausi ja lopuksi kaksinumeroinen päivä). Esimerkiksi 1.5.2024 on esitetty muodossa 20240501.\n",
    "\n",
    "Tehtävässä on oleellista huomata, että muotoa \"VVVVKKPP\" olevia päivämääriä voi karsia koskemaan tiettyä kuukautta vertaamalla niitä sopivalla tavalla muotoa \"VVVVKK\" oleviin päivämääriin. Funktiolle filter välitettävä ehto voidaan siten luoda määrittämällä ensin parametrien year ja month pohjalta yksi tai useampi muotoa \"VVVVKK\" oleva merkkijono, kuten esim. \"202405\".\n",
    "\n",
    "Esimerkiksi kutsun filterByMonth(\"liikenne1.csv\", \"pvm\", 2024, 5, delimiter=';') pitäisi palauttaa kaikki tiedoston \"liikenne1.csv\" sisältämät tietorivit, joiden päivämäärä sijoittuu vuoden 2024 toukokuuhun. Kyseinen tiedosto on ladattavissa Moodlessa viikon 1 alaisuudesta.\n",
    "\n",
    "Toteuta ratkaisusi täydentämällä valmiiseen koodipohjan syötetiedoston avaaminen, DictReader-olion luonti, päivämäärämerkkijono(je)n esivalmistelu sekä filter-kutsun sisältö.\n"
   ]
  },
  {
   "cell_type": "code",
   "execution_count": null,
   "metadata": {},
   "outputs": [
    {
     "ename": "ValueError",
     "evalue": "I/O operation on closed file.",
     "output_type": "error",
     "traceback": [
      "\u001b[1;31m---------------------------------------------------------------------------\u001b[0m",
      "\u001b[1;31mValueError\u001b[0m                                Traceback (most recent call last)",
      "Cell \u001b[1;32mIn[6], line 17\u001b[0m\n\u001b[0;32m     13\u001b[0m         filtered_rows \u001b[38;5;241m=\u001b[39m \u001b[38;5;28mfilter\u001b[39m(\u001b[38;5;28;01mlambda\u001b[39;00m row: row[dateCol]\u001b[38;5;241m.\u001b[39msplit(\u001b[38;5;124m'\u001b[39m\u001b[38;5;124m-\u001b[39m\u001b[38;5;124m'\u001b[39m)[\u001b[38;5;241m0\u001b[39m] \u001b[38;5;241m==\u001b[39m year \u001b[38;5;129;01mand\u001b[39;00m row[dateCol]\u001b[38;5;241m.\u001b[39msplit(\u001b[38;5;124m'\u001b[39m\u001b[38;5;124m-\u001b[39m\u001b[38;5;124m'\u001b[39m)[\u001b[38;5;241m1\u001b[39m] \u001b[38;5;241m==\u001b[39m month, reader)\n\u001b[0;32m     15\u001b[0m     \u001b[38;5;28;01mreturn\u001b[39;00m \u001b[38;5;28mlist\u001b[39m(filtered_rows)\n\u001b[1;32m---> 17\u001b[0m filterByMonth(filename, \u001b[38;5;124m'\u001b[39m\u001b[38;5;124mDate\u001b[39m\u001b[38;5;124m'\u001b[39m, \u001b[38;5;124m'\u001b[39m\u001b[38;5;124m2022\u001b[39m\u001b[38;5;124m'\u001b[39m, \u001b[38;5;124m'\u001b[39m\u001b[38;5;124m11\u001b[39m\u001b[38;5;124m'\u001b[39m)\n",
      "Cell \u001b[1;32mIn[6], line 15\u001b[0m, in \u001b[0;36mfilterByMonth\u001b[1;34m(filename, dateCol, year, month, delimiter)\u001b[0m\n\u001b[0;32m     12\u001b[0m     reader \u001b[38;5;241m=\u001b[39m csv\u001b[38;5;241m.\u001b[39mDictReader(f, delimiter\u001b[38;5;241m=\u001b[39mdelimiter)\n\u001b[0;32m     13\u001b[0m     filtered_rows \u001b[38;5;241m=\u001b[39m \u001b[38;5;28mfilter\u001b[39m(\u001b[38;5;28;01mlambda\u001b[39;00m row: row[dateCol]\u001b[38;5;241m.\u001b[39msplit(\u001b[38;5;124m'\u001b[39m\u001b[38;5;124m-\u001b[39m\u001b[38;5;124m'\u001b[39m)[\u001b[38;5;241m0\u001b[39m] \u001b[38;5;241m==\u001b[39m year \u001b[38;5;129;01mand\u001b[39;00m row[dateCol]\u001b[38;5;241m.\u001b[39msplit(\u001b[38;5;124m'\u001b[39m\u001b[38;5;124m-\u001b[39m\u001b[38;5;124m'\u001b[39m)[\u001b[38;5;241m1\u001b[39m] \u001b[38;5;241m==\u001b[39m month, reader)\n\u001b[1;32m---> 15\u001b[0m \u001b[38;5;28;01mreturn\u001b[39;00m \u001b[38;5;28mlist\u001b[39m(filtered_rows)\n",
      "File \u001b[1;32mc:\\Users\\jarmo\\miniconda3\\envs\\data-analyysi\\Lib\\csv.py:115\u001b[0m, in \u001b[0;36mDictReader.__next__\u001b[1;34m(self)\u001b[0m\n\u001b[0;32m    112\u001b[0m \u001b[38;5;28;01mdef\u001b[39;00m \u001b[38;5;21m__next__\u001b[39m(\u001b[38;5;28mself\u001b[39m):\n\u001b[0;32m    113\u001b[0m     \u001b[38;5;28;01mif\u001b[39;00m \u001b[38;5;28mself\u001b[39m\u001b[38;5;241m.\u001b[39mline_num \u001b[38;5;241m==\u001b[39m \u001b[38;5;241m0\u001b[39m:\n\u001b[0;32m    114\u001b[0m         \u001b[38;5;66;03m# Used only for its side effect.\u001b[39;00m\n\u001b[1;32m--> 115\u001b[0m         \u001b[38;5;28mself\u001b[39m\u001b[38;5;241m.\u001b[39mfieldnames\n\u001b[0;32m    116\u001b[0m     row \u001b[38;5;241m=\u001b[39m \u001b[38;5;28mnext\u001b[39m(\u001b[38;5;28mself\u001b[39m\u001b[38;5;241m.\u001b[39mreader)\n\u001b[0;32m    117\u001b[0m     \u001b[38;5;28mself\u001b[39m\u001b[38;5;241m.\u001b[39mline_num \u001b[38;5;241m=\u001b[39m \u001b[38;5;28mself\u001b[39m\u001b[38;5;241m.\u001b[39mreader\u001b[38;5;241m.\u001b[39mline_num\n",
      "File \u001b[1;32mc:\\Users\\jarmo\\miniconda3\\envs\\data-analyysi\\Lib\\csv.py:102\u001b[0m, in \u001b[0;36mDictReader.fieldnames\u001b[1;34m(self)\u001b[0m\n\u001b[0;32m    100\u001b[0m \u001b[38;5;28;01mif\u001b[39;00m \u001b[38;5;28mself\u001b[39m\u001b[38;5;241m.\u001b[39m_fieldnames \u001b[38;5;129;01mis\u001b[39;00m \u001b[38;5;28;01mNone\u001b[39;00m:\n\u001b[0;32m    101\u001b[0m     \u001b[38;5;28;01mtry\u001b[39;00m:\n\u001b[1;32m--> 102\u001b[0m         \u001b[38;5;28mself\u001b[39m\u001b[38;5;241m.\u001b[39m_fieldnames \u001b[38;5;241m=\u001b[39m \u001b[38;5;28mnext\u001b[39m(\u001b[38;5;28mself\u001b[39m\u001b[38;5;241m.\u001b[39mreader)\n\u001b[0;32m    103\u001b[0m     \u001b[38;5;28;01mexcept\u001b[39;00m \u001b[38;5;167;01mStopIteration\u001b[39;00m:\n\u001b[0;32m    104\u001b[0m         \u001b[38;5;28;01mpass\u001b[39;00m\n",
      "\u001b[1;31mValueError\u001b[0m: I/O operation on closed file."
     ]
    }
   ],
   "source": [
    "import csv\n",
    "filename = 'Fifa Worldcup 2022.csv'\n",
    "\n",
    "def filterByMonth(filename, dateCol, year, month, delimiter=','):\n",
    "    # Täydennä alkuun esim. tiedoston avaus ja muita esivalmisteluita.\n",
    "    # Täydennä alle filter-kutsun sisältö. Anna sen toiseksi parametriksi (eli mitä\n",
    "    # filtteröidään) avattua tiedostoa lukeva DictReader-olio sellaisenaan.\n",
    "    # Karsintakriteeri määritetään ensimmäisenä parametrina.\n",
    "    # Funktio filterByMonth palauttaa filter-kutsun tuloksen listana.\n",
    "\n",
    "    with open(filename, 'r') as f:\n",
    "        reader = csv.DictReader(f, delimiter=delimiter)\n",
    "        filtered_rows = filter(lambda row: row[dateCol].split('-')[0] == year and row[dateCol].split('-')[1] == month, reader)\n",
    "\n",
    "        return list(filtered_rows)\n",
    "\n",
    "filterByMonth(filename, 'Date', '2022', '11')"
   ]
  },
  {
   "cell_type": "code",
   "execution_count": null,
   "metadata": {},
   "outputs": [],
   "source": []
  }
 ],
 "metadata": {
  "kernelspec": {
   "display_name": "data-analyysi",
   "language": "python",
   "name": "python3"
  },
  "language_info": {
   "codemirror_mode": {
    "name": "ipython",
    "version": 3
   },
   "file_extension": ".py",
   "mimetype": "text/x-python",
   "name": "python",
   "nbconvert_exporter": "python",
   "pygments_lexer": "ipython3",
   "version": "3.12.9"
  }
 },
 "nbformat": 4,
 "nbformat_minor": 2
}

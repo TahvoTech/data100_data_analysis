{
 "cells": [
  {
   "cell_type": "markdown",
   "metadata": {},
   "source": [
    "Toteuta Python-funktio CSVstats(filename, delimiter=','), joka avaa parametrin filename nimeämän CSV-tiedoston ja tulostaa tiedon, kuinka monta riviä ja saraketta tiedostossa on. Funktio voi olettaa, että tiedoston jokainen rivi sisältää yhtä monta saraketta. Oletusarvon ',' omaava jälkimmäinen parametri delimiter ilmaisee CSV-tiedoston erotinmerkin. Esimerkiksi kutsu CSVstats(\"data.csv\") käyttäisi CSV-tiedoston erotinmerkkinä pilkkua ja kutsu CSVstats(\"data.csv\", ';') puolipistettä. Mahdollinen otsakerivi lasketaan mukaan tavallisena rivinä. Käytä Pythonin csv-modulia.\n",
    "\n",
    "Funktion tulee tulostaa täsmälleen yksi muotoa \"Tiedostossa 'filename' on x riviä ja y saraketta\" oleva rivi, missä x ja y ovat funktion laskemat tiedot.\n",
    "\n",
    "Sisällytä vastaukseesi ainoastaan funktion toteutus. Tarkistin kutsuu toteuttamaasi funktiota vastauskoodisi ulkopuolelta.\n"
   ]
  },
  {
   "cell_type": "code",
   "execution_count": 5,
   "metadata": {},
   "outputs": [],
   "source": [
    "filename = '../datasets/Fifa Worldcup 2022.csv'\n"
   ]
  },
  {
   "cell_type": "code",
   "execution_count": null,
   "metadata": {},
   "outputs": [],
   "source": [
    "import csv\n",
    "\n",
    "def CSVstats(filename, delimiter=','):\n",
    "    #Toteuta funktion runko\n",
    "    with open(filename) as f:\n",
    "        rows = 0\n",
    "        columns = 0\n",
    "        reader = csv.reader(f, delimiter=delimiter)\n",
    "        for row in reader:\n",
    "            rows += 1\n",
    "            columns = len(row)\n",
    "    return print(f\"Tiedostossa '{filename}' on {rows} riviä ja {columns} saraketta\")\n"
   ]
  },
  {
   "cell_type": "code",
   "execution_count": 8,
   "metadata": {},
   "outputs": [
    {
     "name": "stdout",
     "output_type": "stream",
     "text": [
      "Tiedostossa 'Fifa Worldcup 2022.csv' on 129 riviä ja 38 saraketta\n"
     ]
    }
   ],
   "source": [
    "filename = \"Fifa Worldcup 2022.csv\"\n",
    "CSVstats(filename)"
   ]
  },
  {
   "cell_type": "code",
   "execution_count": null,
   "metadata": {},
   "outputs": [],
   "source": [
    "import csv\n",
    "\n",
    "def CSVstats(filename, delimiter=','):\n",
    "    #Toteuta funktion runko\n",
    "    rows = 0\n",
    "    columns = 0\n",
    "    with open(filename) as f:\n",
    "        for line in f:\n",
    "            rows += 1\n",
    "            columns = len(line.split(delimiter))\n",
    "\n",
    "    return print(f\"Tiedostossa '{filename}' on {rows} riviä ja {columns} saraketta\")"
   ]
  }
 ],
 "metadata": {
  "kernelspec": {
   "display_name": "data-analyysi",
   "language": "python",
   "name": "python3"
  },
  "language_info": {
   "codemirror_mode": {
    "name": "ipython",
    "version": 3
   },
   "file_extension": ".py",
   "mimetype": "text/x-python",
   "name": "python",
   "nbconvert_exporter": "python",
   "pygments_lexer": "ipython3",
   "version": "3.12.9"
  }
 },
 "nbformat": 4,
 "nbformat_minor": 2
}

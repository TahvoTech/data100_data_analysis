{
 "cells": [
  {
   "cell_type": "code",
   "execution_count": null,
   "id": "3ad726aa-ef9e-47cc-9d9c-e750f84ecb35",
   "metadata": {},
   "outputs": [],
   "source": [
    "with open('../datasets/Fifa Worldcup 2022.csv') as f:\n",
    "    print(f.read())"
   ]
  },
  {
   "cell_type": "code",
   "execution_count": 1,
   "id": "724ea838-2b5c-4829-bfc7-55b45bdadef9",
   "metadata": {},
   "outputs": [
    {
     "data": {
      "text/plain": [
       "'C:\\\\Users\\\\jarmo\\\\OneDrive - TUNI.fi\\\\courses\\\\data_analysis\\\\notebooks'"
      ]
     },
     "execution_count": 1,
     "metadata": {},
     "output_type": "execute_result"
    }
   ],
   "source": [
    "pwd\n"
   ]
  },
  {
   "cell_type": "code",
   "execution_count": 7,
   "id": "7a32ad7f-19fd-4497-8891-288290fc2cb6",
   "metadata": {},
   "outputs": [
    {
     "name": "stdout",
     "output_type": "stream",
     "text": [
      "Team Against Goal\n",
      "Qatar Ecuador 0\n",
      "Ecuador Qatar 2\n",
      "England Iran 6\n",
      "Iran England 2\n",
      "Senegal Netherlands 0\n",
      "Netherlands Senegal 2\n",
      "United States Wales 1\n",
      "Wales United States 1\n",
      "Argentina Saudi Arabia 1\n",
      "Saudi Arabia Argentina 2\n",
      "Denmark Tunisia 0\n",
      "Tunisia Denmark 0\n",
      "Mexico Poland 0\n",
      "Poland Mexico 0\n",
      "France Australia 4\n",
      "Australia France 1\n",
      "Morocco Croatia 0\n",
      "Croatia Morocco 0\n",
      "Germany Japan 1\n",
      "Japan Germany 2\n",
      "Spain Costa Rica 7\n",
      "Costa Rica Spain 0\n",
      "Belgium Canada 1\n",
      "Canada Belgium 0\n",
      "Switzerland Cameroon 1\n",
      "Cameroon Switzerland 0\n",
      "Uruguay Korea Republic 0\n",
      "Korea Republic Uruguay 0\n",
      "Portugal Ghana 3\n",
      "Ghana Portugal 2\n",
      "Brazil Serbia 2\n",
      "Serbia Brazil 0\n",
      "Wales Iran 0\n",
      "Iran Wales 2\n",
      "Qatar Senegal 1\n",
      "Senegal Qatar 3\n",
      "Netherlands Ecuador 1\n",
      "Ecuador Netherlands 1\n",
      "England United States 0\n",
      "United States England 0\n",
      "Tunisia Australia 0\n",
      "Australia Tunisia 1\n",
      "Poland Saudi Arabia 2\n",
      "Saudi Arabia Poland 0\n",
      "France Denmark 2\n",
      "Denmark France 1\n",
      "Argentina Mexico 2\n",
      "Mexico Argentina 0\n",
      "Japan Costa Rica 0\n",
      "Costa Rica Japan 1\n",
      "Belgium Morocco 0\n",
      "Morocco Belgium 2\n",
      "Croatia Canada 4\n",
      "Canada Croatia 1\n",
      "Spain Germany 1\n",
      "Germany Spain 1\n",
      "Cameroon Serbia 3\n",
      "Serbia Cameroon 3\n",
      "Korea Republic Ghana 2\n",
      "Ghana Korea Republic 3\n",
      "Brazil Switzerland 1\n",
      "Switzerland Brazil 0\n",
      "Portugal Uruguay 2\n",
      "Uruguay Portugal 0\n",
      "Netherlands Qatar 2\n",
      "Qatar Netherlands 0\n",
      "Ecuador Senegal 1\n",
      "Senegal Ecuador 2\n",
      "Wales England 0\n",
      "England Wales 3\n",
      "Iran United States 0\n",
      "United States Iran 1\n",
      "Australia Denmark 1\n",
      "Denmark Australia 0\n",
      "Tunisia France 1\n",
      "France Tunisia 0\n",
      "Poland Argentina 0\n",
      "Argentina Poland 2\n",
      "Saudi Arabia Mexico 1\n",
      "Mexico Saudi Arabia 2\n",
      "Croatia Belgium 0\n",
      "Belgium Croatia 0\n",
      "Canada Morocco 1\n",
      "Morocco Canada 2\n",
      "Japan Spain 2\n",
      "Spain Japan 1\n",
      "Costa Rica Germany 2\n",
      "Germany Costa Rica 4\n",
      "Ghana Uruguay 0\n",
      "Uruguay Ghana 2\n",
      "Korea Republic Portugal 2\n",
      "Portugal Korea Republic 1\n",
      "Serbia Switzerland 2\n",
      "Switzerland Serbia 3\n",
      "Cameroon Brazil 1\n",
      "Brazil Cameroon 0\n",
      "Netherlands United States 3\n",
      "United States Netherlands 1\n",
      "Argentina Australia 2\n",
      "Australia Argentina 1\n",
      "France Poland 3\n",
      "Poland France 1\n",
      "England Senegal 3\n",
      "Senegal England 0\n",
      "Japan Croatia 1\n",
      "Croatia Japan 1\n",
      "Brazil Korea Republic 4\n",
      "Korea Republic Brazil 1\n",
      "Morocco Spain 0\n",
      "Spain Morocco 0\n",
      "Portugal Switzerland 6\n",
      "Switzerland Portugal 1\n",
      "Croatia Brazil 1\n",
      "Brazil Croatia 1\n",
      "Netherlands Argentina 2\n",
      "Argentina Netherlands 2\n",
      "Morocco Portugal 1\n",
      "Portugal Morocco 0\n",
      "England France 1\n",
      "France England 2\n",
      "Argentina Croatia 3\n",
      "Croatia Argentina 0\n",
      "France Morocco 2\n",
      "Morocco Fram 0\n",
      "Croatia Morocco 2\n",
      "Morocco Croatia 1\n",
      "Argentina France 3\n",
      "France Argentina 3\n"
     ]
    }
   ],
   "source": [
    "with open('../datasets/Fifa Worldcup 2022.csv') as f:\n",
    "    for line in f:\n",
    "        row = line.split(',')\n",
    "        print(row[2], row[3], row[5])"
   ]
  },
  {
   "cell_type": "code",
   "execution_count": null,
   "id": "a83c34e5-fa95-4fc8-a871-9972c26b82c4",
   "metadata": {},
   "outputs": [],
   "source": [
    "with open('../datasets/Fifa Worldcup 2022.csv') as f:\n",
    "    rows = []\n",
    "    for line in f:\n",
    "        row = line.split(',')\n",
    "        rows.append([row[2], row[3], row[5]])\n",
    "rows"
   ]
  },
  {
   "cell_type": "code",
   "execution_count": null,
   "id": "00ae81b7-6c87-41f1-9fb1-d5e9dfc061be",
   "metadata": {},
   "outputs": [],
   "source": [
    "with open('../datasets/Fifa Worldcup 2022.csv') as f:\n",
    "    rows = []\n",
    "    countries = set()\n",
    "    for line in f:\n",
    "        row = line.split(',')\n",
    "        rows.append([row[2], row[3], row[5]])\n",
    "        countries.add(row[2])\n",
    "        countries.add(row[3])\n",
    "countries #huom tässä jää ensimmäinen rivitieto, joka on otsikko."
   ]
  },
  {
   "cell_type": "code",
   "execution_count": 11,
   "id": "89862b8d-0a26-494c-be41-7360e5811e8d",
   "metadata": {},
   "outputs": [
    {
     "data": {
      "text/plain": [
       "{'Argentina',\n",
       " 'Australia',\n",
       " 'Belgium',\n",
       " 'Brazil',\n",
       " 'Cameroon',\n",
       " 'Canada',\n",
       " 'Costa Rica',\n",
       " 'Croatia',\n",
       " 'Denmark',\n",
       " 'Ecuador',\n",
       " 'England',\n",
       " 'France',\n",
       " 'Germany',\n",
       " 'Ghana',\n",
       " 'Iran',\n",
       " 'Japan',\n",
       " 'Korea Republic',\n",
       " 'Mexico',\n",
       " 'Morocco',\n",
       " 'Netherlands',\n",
       " 'Poland',\n",
       " 'Portugal',\n",
       " 'Qatar',\n",
       " 'Saudi Arabia',\n",
       " 'Senegal',\n",
       " 'Serbia',\n",
       " 'Spain',\n",
       " 'Switzerland',\n",
       " 'Tunisia',\n",
       " 'United States',\n",
       " 'Uruguay',\n",
       " 'Wales'}"
      ]
     },
     "execution_count": 11,
     "metadata": {},
     "output_type": "execute_result"
    }
   ],
   "source": [
    "with open('../datasets/Fifa Worldcup 2022.csv') as f:\n",
    "    rows = []\n",
    "    countries = set()\n",
    "    next(f)\n",
    "    for line in f:\n",
    "        row = line.split(',')\n",
    "        rows.append([row[2], row[3], row[5]])\n",
    "        countries.add(row[2])\n",
    "        countries.add(row[3])\n",
    "countries"
   ]
  },
  {
   "cell_type": "code",
   "execution_count": 12,
   "id": "74c733ac-c519-4039-b709-46e63e1f0fce",
   "metadata": {},
   "outputs": [
    {
     "data": {
      "text/plain": [
       "<filter at 0x28c713e5ba0>"
      ]
     },
     "execution_count": 12,
     "metadata": {},
     "output_type": "execute_result"
    }
   ],
   "source": [
    "country = 'Argentina'\n",
    "filter(lambda r: r[0] ==  country, rows)"
   ]
  },
  {
   "cell_type": "code",
   "execution_count": 13,
   "id": "c8263902-e4e7-4dfd-beca-9f9b4ce310b6",
   "metadata": {},
   "outputs": [
    {
     "data": {
      "text/plain": [
       "[['Argentina', 'Saudi Arabia', '1'],\n",
       " ['Argentina', 'Mexico', '2'],\n",
       " ['Argentina', 'Poland', '2'],\n",
       " ['Argentina', 'Australia', '2'],\n",
       " ['Argentina', 'Netherlands', '2'],\n",
       " ['Argentina', 'Croatia', '3'],\n",
       " ['Argentina', 'France', '3']]"
      ]
     },
     "execution_count": 13,
     "metadata": {},
     "output_type": "execute_result"
    }
   ],
   "source": [
    "country = 'Argentina'\n",
    "list(filter(lambda r: r[0] == country or r[1] == country, rows))"
   ]
  },
  {
   "cell_type": "code",
   "execution_count": null,
   "id": "6eb25aa1-5bbc-4abb-8dfe-b9e5eae9126a",
   "metadata": {},
   "outputs": [],
   "source": []
  }
 ],
 "metadata": {
  "kernelspec": {
   "display_name": "Python 3 (ipykernel)",
   "language": "python",
   "name": "python3"
  },
  "language_info": {
   "codemirror_mode": {
    "name": "ipython",
    "version": 3
   },
   "file_extension": ".py",
   "mimetype": "text/x-python",
   "name": "python",
   "nbconvert_exporter": "python",
   "pygments_lexer": "ipython3",
   "version": "3.12.9"
  }
 },
 "nbformat": 4,
 "nbformat_minor": 5
}

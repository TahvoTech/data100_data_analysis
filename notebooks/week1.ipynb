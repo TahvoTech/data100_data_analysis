{
 "cells": [
  {
   "cell_type": "code",
   "execution_count": null,
   "id": "3ad726aa-ef9e-47cc-9d9c-e750f84ecb35",
   "metadata": {},
   "outputs": [],
   "source": [
    "with open('../datasets/Fifa Worldcup 2022.csv') as f:\n",
    "    print(f.read())"
   ]
  },
  {
   "cell_type": "code",
   "execution_count": null,
   "id": "724ea838-2b5c-4829-bfc7-55b45bdadef9",
   "metadata": {},
   "outputs": [],
   "source": [
    "pwd\n"
   ]
  },
  {
   "cell_type": "code",
   "execution_count": null,
   "id": "7a32ad7f-19fd-4497-8891-288290fc2cb6",
   "metadata": {},
   "outputs": [],
   "source": [
    "with open('../datasets/Fifa Worldcup 2022.csv') as f:\n",
    "    for line in f:\n",
    "        row = line.split(',')\n",
    "        print(row[2], row[3], row[5])"
   ]
  },
  {
   "cell_type": "code",
   "execution_count": null,
   "id": "22018d1b",
   "metadata": {},
   "outputs": [],
   "source": [
    "filename = '../datasets/Fifa Worldcup 2022.csv'\n",
    "\n",
    "with open(filename) as f:\n",
    "    rows = 0\n",
    "    columns = 0\n",
    "    for line in f:\n",
    "        rows += 1\n",
    "        columns = len(line.split(','))\n",
    "\n",
    "print(f'rows: {rows}, columns: {columns}')\n"
   ]
  },
  {
   "cell_type": "code",
   "execution_count": null,
   "id": "619c9469",
   "metadata": {},
   "outputs": [],
   "source": [
    "import csv\n",
    "\n",
    "def CSVstats(filename, delimiter=','):\n",
    "    #Toteuta funktion runko\n",
    "    rows = 0\n",
    "    columns = 0\n",
    "    with open(filename) as f:\n",
    "        for line in f:\n",
    "            rows += 1\n",
    "            columns = len(line.split(delimiter))\n",
    "\n",
    "    return print(f\"Tiedostossa '{filename}' on {rows} riviä ja {columns} saraketta\")"
   ]
  },
  {
   "cell_type": "code",
   "execution_count": null,
   "id": "a83c34e5-fa95-4fc8-a871-9972c26b82c4",
   "metadata": {},
   "outputs": [],
   "source": [
    "with open('../datasets/Fifa Worldcup 2022.csv') as f:\n",
    "    rows = []\n",
    "    for line in f:\n",
    "        row = line.split(',')\n",
    "        rows.append([row[2], row[3], row[5]])\n",
    "rows"
   ]
  },
  {
   "cell_type": "code",
   "execution_count": null,
   "id": "00ae81b7-6c87-41f1-9fb1-d5e9dfc061be",
   "metadata": {},
   "outputs": [],
   "source": [
    "with open('../datasets/Fifa Worldcup 2022.csv') as f:\n",
    "    rows = []\n",
    "    countries = set()\n",
    "    for line in f:\n",
    "        row = line.split(',')\n",
    "        rows.append([row[2], row[3], row[5]])\n",
    "        countries.add(row[2])\n",
    "        countries.add(row[3])\n",
    "countries #huom tässä jää ensimmäinen rivitieto, joka on otsikko."
   ]
  },
  {
   "cell_type": "code",
   "execution_count": null,
   "id": "89862b8d-0a26-494c-be41-7360e5811e8d",
   "metadata": {},
   "outputs": [],
   "source": [
    "with open('../datasets/Fifa Worldcup 2022.csv') as f:\n",
    "    rows = []\n",
    "    countries = set()\n",
    "    next(f)\n",
    "    for line in f:\n",
    "        row = line.split(',')\n",
    "        rows.append([row[2], row[3], row[5]])\n",
    "        countries.add(row[2])\n",
    "        countries.add(row[3])\n",
    "countries"
   ]
  },
  {
   "cell_type": "code",
   "execution_count": null,
   "id": "74c733ac-c519-4039-b709-46e63e1f0fce",
   "metadata": {},
   "outputs": [],
   "source": [
    "country = 'Argentina'\n",
    "filter(lambda r: r[0] ==  country, rows)"
   ]
  },
  {
   "cell_type": "code",
   "execution_count": null,
   "id": "c8263902-e4e7-4dfd-beca-9f9b4ce310b6",
   "metadata": {},
   "outputs": [],
   "source": [
    "country = 'Argentina'\n",
    "list(filter(lambda r: r[0] == country or r[1] == country, rows))"
   ]
  },
  {
   "cell_type": "code",
   "execution_count": null,
   "id": "6eb25aa1-5bbc-4abb-8dfe-b9e5eae9126a",
   "metadata": {},
   "outputs": [],
   "source": [
    "goals = 0\n",
    "for row in filter(lambda r: r[0] == country, rows):\n",
    "    goals += int(row[2])\n",
    "\n",
    "goals\n",
    "    "
   ]
  },
  {
   "cell_type": "code",
   "execution_count": null,
   "id": "03356531-3552-44fd-b9a2-78e6a42d0ce1",
   "metadata": {},
   "outputs": [],
   "source": [
    "goals = 0\n",
    "for row in filter(lambda r: r[0] == country, rows):\n",
    "    goals += int(row[2])\n",
    "\n",
    "goals / len(list(filter(lambda r: r[0] == country, rows)))"
   ]
  },
  {
   "cell_type": "code",
   "execution_count": null,
   "id": "9fac84c3-1df6-4e92-b7a2-ab5e7161a37d",
   "metadata": {},
   "outputs": [],
   "source": [
    "import csv\n",
    "\n",
    "with open('../datasets/Fifa Worldcup 2022.csv') as f:\n",
    "    rows = []\n",
    "    countries = set()\n",
    "    next(f)\n",
    "    rd = csv.reader(f)\n",
    "    for row in rd:\n",
    "        rows.append([row[2], row[3], int(row[5])])\n",
    "        countries.add(row[2])\n",
    "        countries.add(row[3])\n",
    "countries"
   ]
  },
  {
   "cell_type": "code",
   "execution_count": null,
   "id": "ad6eee85-a359-4f0a-9ecb-83c1ea9e04b2",
   "metadata": {},
   "outputs": [],
   "source": [
    "import csv\n",
    "\n",
    "with open('../datasets/Fifa Worldcup 2022.csv') as f:\n",
    "    rows = []\n",
    "    countries = set()\n",
    "    next(f)\n",
    "    rd = csv.reader(f)\n",
    "    for row in rd:\n",
    "        rows.append([row[2], row[3], int(row[5])])\n",
    "        print(row)"
   ]
  },
  {
   "cell_type": "code",
   "execution_count": null,
   "id": "ea966ece-8c63-4d9f-8131-163c70d95824",
   "metadata": {},
   "outputs": [],
   "source": [
    "import csv\n",
    "\n",
    "with open('../datasets/Fifa Worldcup 2022.csv') as f:\n",
    "    rows = []\n",
    "    countries = set()\n",
    "    next(f)\n",
    "    rd = csv.reader(f)\n",
    "    for row in rd:\n",
    "        rows.append([row[2], row[3], int(row[5])])\n",
    "        countries.add(row[2])\n",
    "        countries.add(row[3])\n",
    "countries"
   ]
  }
 ],
 "metadata": {
  "kernelspec": {
   "display_name": "data-analyysi",
   "language": "python",
   "name": "python3"
  },
  "language_info": {
   "codemirror_mode": {
    "name": "ipython",
    "version": 3
   },
   "file_extension": ".py",
   "mimetype": "text/x-python",
   "name": "python",
   "nbconvert_exporter": "python",
   "pygments_lexer": "ipython3",
   "version": "3.12.9"
  }
 },
 "nbformat": 4,
 "nbformat_minor": 5
}

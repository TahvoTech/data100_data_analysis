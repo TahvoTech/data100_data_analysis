{
 "cells": [
  {
   "cell_type": "markdown",
   "metadata": {},
   "source": [
    "Toteuta Python-funktio XMLelementCount(filename, element=None, encoding='utf-8'), joka avaa parametrin filename nimeämän tiedoston käyttäen parametrin encoding ilmaisemaa merkistöä. Funktio olettaa tiedoston sisältävän XML-muotoista dataa. Funktio tulostaa tiedon, kuinka monta parametrin element nimeämää elementtiä tiedoston XML-data sisältää. Jos parametrin element arvo on None, funktio laskee kaikkien elementtien lukumäärän (niiden nimistä riippumatta).\n",
    "\n",
    "Esimerkiksi kutsu XMLelementCount(\"postitoimipaikat.txt\", \"postinumero\", encoding=\"latin1\") avaisi tiedoston \"postitoimipaikat.txt\" käyttäen latin1-merkistöä ja tulostaisi tiedon, kuinka monta postinumero-elementtiä tiedoston data sisältää. Käytä Pythonin [xml.etree.ElementTree-modulia](https://docs.python.org/3/library/xml.etree.elementtree.html).\n",
    "\n",
    "Funktion tulee tulostaa täsmälleen yksi muotoa \"Tiedostossa 'filename' on x element-elementtiä\" oleva rivi, missä x on parametrin element nimeämien elementtien lukumäärä. Poikkeuksena on tilanne, jossa element on None: tällöin tulosterivi on muotoa \"Tiedostossa 'filename' on x elementtiä\".\n",
    "\n",
    "Sisällytä vastaukseesi ainoastaan funktion toteutus. Tarkistin kutsuu toteuttamaasi funktiota vastauskoodisi ulkopuolelta.\n"
   ]
  },
  {
   "cell_type": "code",
   "execution_count": 72,
   "metadata": {},
   "outputs": [],
   "source": [
    "filename = \"postitoimipaikat.txt\""
   ]
  },
  {
   "cell_type": "code",
   "execution_count": 64,
   "metadata": {},
   "outputs": [],
   "source": [
    "import xml.etree.ElementTree as ET\n",
    "\n",
    "def XMLelementCount(filename, element=None, encoding='utf-8'):\n",
    "    #Toteuta funktion runko\n",
    "    with open(filename, encoding=encoding) as file:\n",
    "        tree = ET.parse(file)\n",
    "        root = tree.getroot()\n",
    "        \n",
    "        if element is None:\n",
    "            count = sum(1 for _ in root.iter())\n",
    "            print(f\"Tiedostossa '{filename}' on {count} elementtiä\")\n",
    "        else:\n",
    "            count = sum(1 for _ in root.iter(element))\n",
    "            print(f\"Tiedostossa '{filename}' on {count} {element}-elementtiä\")"
   ]
  },
  {
   "cell_type": "code",
   "execution_count": 65,
   "metadata": {},
   "outputs": [
    {
     "name": "stdout",
     "output_type": "stream",
     "text": [
      "Tiedostossa 'postitoimipaikat.txt' on 6558 postinumero-elementtiä\n"
     ]
    }
   ],
   "source": [
    "XMLelementCount(\"postitoimipaikat.txt\", \"postinumero\", \"latin1\")"
   ]
  },
  {
   "cell_type": "code",
   "execution_count": 69,
   "metadata": {},
   "outputs": [
    {
     "name": "stdout",
     "output_type": "stream",
     "text": [
      "Tiedostossa 'postitoimipaikat.txt' on 49625 elementtiä\n"
     ]
    }
   ],
   "source": [
    "XMLelementCount(\"postitoimipaikat.txt\", encoding=\"latin1\")"
   ]
  },
  {
   "cell_type": "code",
   "execution_count": 71,
   "metadata": {},
   "outputs": [
    {
     "name": "stdout",
     "output_type": "stream",
     "text": [
      "Tiedostossa 'postitoimipaikat.txt' on 49625 elementtiä\n"
     ]
    }
   ],
   "source": [
    "XMLelementCount(\"postitoimipaikat.txt\", None, \"latin1\")"
   ]
  }
 ],
 "metadata": {
  "kernelspec": {
   "display_name": "data100_env",
   "language": "python",
   "name": "python3"
  },
  "language_info": {
   "codemirror_mode": {
    "name": "ipython",
    "version": 3
   },
   "file_extension": ".py",
   "mimetype": "text/x-python",
   "name": "python",
   "nbconvert_exporter": "python",
   "pygments_lexer": "ipython3",
   "version": "3.12.9"
  }
 },
 "nbformat": 4,
 "nbformat_minor": 2
}
